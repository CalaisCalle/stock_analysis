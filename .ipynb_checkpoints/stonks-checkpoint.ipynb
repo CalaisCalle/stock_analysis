{
 "cells": [
  {
   "cell_type": "code",
   "execution_count": 1,
   "id": "78ddd16f",
   "metadata": {},
   "outputs": [],
   "source": [
    "from alpha_vantage import base"
   ]
  },
  {
   "cell_type": "code",
   "execution_count": 2,
   "id": "b044af1a",
   "metadata": {},
   "outputs": [],
   "source": [
    "import pandas as pd"
   ]
  },
  {
   "cell_type": "code",
   "execution_count": 3,
   "id": "044bce2e",
   "metadata": {},
   "outputs": [],
   "source": [
    "av = base.alpha_vantage_base()\n",
    "r = av.time_series(\"IBM\").json()"
   ]
  },
  {
   "cell_type": "code",
   "execution_count": 4,
   "id": "f8ef9a58",
   "metadata": {},
   "outputs": [
    {
     "data": {
      "text/html": [
       "<div>\n",
       "<style scoped>\n",
       "    .dataframe tbody tr th:only-of-type {\n",
       "        vertical-align: middle;\n",
       "    }\n",
       "\n",
       "    .dataframe tbody tr th {\n",
       "        vertical-align: top;\n",
       "    }\n",
       "\n",
       "    .dataframe thead th {\n",
       "        text-align: right;\n",
       "    }\n",
       "</style>\n",
       "<table border=\"1\" class=\"dataframe\">\n",
       "  <thead>\n",
       "    <tr style=\"text-align: right;\">\n",
       "      <th></th>\n",
       "      <th>1. open</th>\n",
       "      <th>2. high</th>\n",
       "      <th>3. low</th>\n",
       "      <th>4. close</th>\n",
       "      <th>5. adjusted close</th>\n",
       "      <th>6. volume</th>\n",
       "      <th>7. dividend amount</th>\n",
       "      <th>8. split coefficient</th>\n",
       "    </tr>\n",
       "  </thead>\n",
       "  <tbody>\n",
       "    <tr>\n",
       "      <th>2023-05-12</th>\n",
       "      <td>121.41</td>\n",
       "      <td>122.86</td>\n",
       "      <td>121.11</td>\n",
       "      <td>122.84</td>\n",
       "      <td>122.84</td>\n",
       "      <td>4564825</td>\n",
       "      <td>0.0000</td>\n",
       "      <td>1.0</td>\n",
       "    </tr>\n",
       "    <tr>\n",
       "      <th>2023-05-11</th>\n",
       "      <td>122.02</td>\n",
       "      <td>122.24</td>\n",
       "      <td>120.55</td>\n",
       "      <td>120.9</td>\n",
       "      <td>120.9</td>\n",
       "      <td>3446452</td>\n",
       "      <td>0.0000</td>\n",
       "      <td>1.0</td>\n",
       "    </tr>\n",
       "    <tr>\n",
       "      <th>2023-05-10</th>\n",
       "      <td>121.99</td>\n",
       "      <td>122.49</td>\n",
       "      <td>121.1</td>\n",
       "      <td>122.02</td>\n",
       "      <td>122.02</td>\n",
       "      <td>4189222</td>\n",
       "      <td>0.0000</td>\n",
       "      <td>1.0</td>\n",
       "    </tr>\n",
       "    <tr>\n",
       "      <th>2023-05-09</th>\n",
       "      <td>121.9</td>\n",
       "      <td>121.97</td>\n",
       "      <td>120.66</td>\n",
       "      <td>121.17</td>\n",
       "      <td>121.17</td>\n",
       "      <td>4540047</td>\n",
       "      <td>1.6600</td>\n",
       "      <td>1.0</td>\n",
       "    </tr>\n",
       "    <tr>\n",
       "      <th>2023-05-08</th>\n",
       "      <td>123.76</td>\n",
       "      <td>123.92</td>\n",
       "      <td>122.55</td>\n",
       "      <td>123.4</td>\n",
       "      <td>121.732296670195</td>\n",
       "      <td>3663818</td>\n",
       "      <td>0.0000</td>\n",
       "      <td>1.0</td>\n",
       "    </tr>\n",
       "    <tr>\n",
       "      <th>...</th>\n",
       "      <td>...</td>\n",
       "      <td>...</td>\n",
       "      <td>...</td>\n",
       "      <td>...</td>\n",
       "      <td>...</td>\n",
       "      <td>...</td>\n",
       "      <td>...</td>\n",
       "      <td>...</td>\n",
       "    </tr>\n",
       "    <tr>\n",
       "      <th>1999-11-05</th>\n",
       "      <td>92.75</td>\n",
       "      <td>92.94</td>\n",
       "      <td>90.19</td>\n",
       "      <td>90.25</td>\n",
       "      <td>48.4589055980436</td>\n",
       "      <td>13737600</td>\n",
       "      <td>0.0000</td>\n",
       "      <td>1.0</td>\n",
       "    </tr>\n",
       "    <tr>\n",
       "      <th>1999-11-04</th>\n",
       "      <td>94.44</td>\n",
       "      <td>94.44</td>\n",
       "      <td>90.0</td>\n",
       "      <td>91.56</td>\n",
       "      <td>49.1622980227908</td>\n",
       "      <td>16697600</td>\n",
       "      <td>0.0000</td>\n",
       "      <td>1.0</td>\n",
       "    </tr>\n",
       "    <tr>\n",
       "      <th>1999-11-03</th>\n",
       "      <td>95.87</td>\n",
       "      <td>95.94</td>\n",
       "      <td>93.5</td>\n",
       "      <td>94.37</td>\n",
       "      <td>50.6711016209128</td>\n",
       "      <td>10369100</td>\n",
       "      <td>0.0000</td>\n",
       "      <td>1.0</td>\n",
       "    </tr>\n",
       "    <tr>\n",
       "      <th>1999-11-02</th>\n",
       "      <td>96.75</td>\n",
       "      <td>96.81</td>\n",
       "      <td>93.69</td>\n",
       "      <td>94.81</td>\n",
       "      <td>50.9073555651027</td>\n",
       "      <td>11105400</td>\n",
       "      <td>0.0000</td>\n",
       "      <td>1.0</td>\n",
       "    </tr>\n",
       "    <tr>\n",
       "      <th>1999-11-01</th>\n",
       "      <td>98.5</td>\n",
       "      <td>98.81</td>\n",
       "      <td>96.37</td>\n",
       "      <td>96.75</td>\n",
       "      <td>51.9490206826673</td>\n",
       "      <td>9551800</td>\n",
       "      <td>0.0000</td>\n",
       "      <td>1.0</td>\n",
       "    </tr>\n",
       "  </tbody>\n",
       "</table>\n",
       "<p>5921 rows × 8 columns</p>\n",
       "</div>"
      ],
      "text/plain": [
       "           1. open 2. high  3. low 4. close 5. adjusted close 6. volume   \n",
       "2023-05-12  121.41  122.86  121.11   122.84            122.84   4564825  \\\n",
       "2023-05-11  122.02  122.24  120.55    120.9             120.9   3446452   \n",
       "2023-05-10  121.99  122.49   121.1   122.02            122.02   4189222   \n",
       "2023-05-09   121.9  121.97  120.66   121.17            121.17   4540047   \n",
       "2023-05-08  123.76  123.92  122.55    123.4  121.732296670195   3663818   \n",
       "...            ...     ...     ...      ...               ...       ...   \n",
       "1999-11-05   92.75   92.94   90.19    90.25  48.4589055980436  13737600   \n",
       "1999-11-04   94.44   94.44    90.0    91.56  49.1622980227908  16697600   \n",
       "1999-11-03   95.87   95.94    93.5    94.37  50.6711016209128  10369100   \n",
       "1999-11-02   96.75   96.81   93.69    94.81  50.9073555651027  11105400   \n",
       "1999-11-01    98.5   98.81   96.37    96.75  51.9490206826673   9551800   \n",
       "\n",
       "           7. dividend amount 8. split coefficient  \n",
       "2023-05-12             0.0000                  1.0  \n",
       "2023-05-11             0.0000                  1.0  \n",
       "2023-05-10             0.0000                  1.0  \n",
       "2023-05-09             1.6600                  1.0  \n",
       "2023-05-08             0.0000                  1.0  \n",
       "...                       ...                  ...  \n",
       "1999-11-05             0.0000                  1.0  \n",
       "1999-11-04             0.0000                  1.0  \n",
       "1999-11-03             0.0000                  1.0  \n",
       "1999-11-02             0.0000                  1.0  \n",
       "1999-11-01             0.0000                  1.0  \n",
       "\n",
       "[5921 rows x 8 columns]"
      ]
     },
     "execution_count": 4,
     "metadata": {},
     "output_type": "execute_result"
    }
   ],
   "source": [
    "df = pd.DataFrame.from_dict(r['Time Series (Daily)']).T\n",
    "df"
   ]
  },
  {
   "cell_type": "code",
   "execution_count": 19,
   "id": "c1ea0c2c",
   "metadata": {},
   "outputs": [
    {
     "data": {
      "text/plain": [
       "<AxesSubplot:>"
      ]
     },
     "execution_count": 19,
     "metadata": {},
     "output_type": "execute_result"
    },
    {
     "data": {
      "image/png": "[encoded data removed]",
      "text/plain": [
       "<Figure size 432x288 with 1 Axes>"
      ]
     },
     "metadata": {
      "needs_background": "light"
     },
     "output_type": "display_data"
    }
   ],
   "source": [
    "\n",
    "df = df.astype({'5. adjusted close': 'float'})\n",
    "df['5. adjusted close'][::-1].plot()"
   ]
  },
  {
   "cell_type": "code",
   "execution_count": null,
   "id": "35f2e82e",
   "metadata": {},
   "outputs": [],
   "source": []
  }
 ],
 "metadata": {
  "kernelspec": {
   "display_name": "Python 3 (ipykernel)",
   "language": "python",
   "name": "python3"
  },
  "language_info": {
   "codemirror_mode": {
    "name": "ipython",
    "version": 3
   },
   "file_extension": ".py",
   "mimetype": "text/x-python",
   "name": "python",
   "nbconvert_exporter": "python",
   "pygments_lexer": "ipython3",
   "version": "3.10.6"
  }
 },
 "nbformat": 4,
 "nbformat_minor": 5
}
